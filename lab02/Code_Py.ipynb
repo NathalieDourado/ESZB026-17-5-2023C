{
  "nbformat": 4,
  "nbformat_minor": 0,
  "metadata": {
    "colab": {
      "provenance": []
    },
    "kernelspec": {
      "name": "python3",
      "display_name": "Python 3"
    },
    "language_info": {
      "name": "python"
    }
  },
  "cells": [
    {
      "cell_type": "code",
      "execution_count": null,
      "metadata": {
        "id": "WaNDkfA3ePbF"
      },
      "outputs": [],
      "source": [
        "import sys\n",
        "import time\n",
        "import RPi.GPIO as GPIO\n",
        "LED_PATH_VERMELHO = \"/sys / class / gpio / gpio21 /\"\n",
        "LED_PATH_VERDE = \"/sys / class / gpio / gpio20 /\"\n",
        "LED_PATH_AMARELO = \"/sys / class / gpio / gpio16 /\"\n",
        "SYSFS_DIR = \"/ sys / class / gpio /\"\n",
        "LED_VERMELHO = \"20\"\n",
        "LED_VERDE = \"21\"\n",
        "LED_AMARELO = \"16\"\n",
        "\n",
        "GPIO.setmode(GPIO.BCM)\n",
        "GPIO.setup(LED_VERMELHO, GPIO.OUT)\n",
        "GPIO.setup(LED_VERDE, GPIO.OUT)\n",
        "GPIO.setup(LED_AMARELO, GPIO.OUT)\n",
        "\n",
        "# Função para acender um LED durante um tempo determinado\n",
        "def acender_led(pino, tempo) :\n",
        "    GPIO.output(pino, GPIO.HIGH)\n",
        "    time.sleep(tempo)\n",
        "    GPIO.output(pino, GPIO.LOW)\n",
        "\n",
        "# repetindo a sequência por 5 vezes\n",
        "for _ in range(5) :\n",
        "    acender_led(LED_VERMELHO, 2)\n",
        "    acender_led(LED_VERDE, 1)\n",
        "    acender_led(LED_AMARELO, 1)\n",
        "\n",
        "# Desabilitando os pinos GPIO\n",
        "GPIO.cleanup()"
      ]
    }
  ]
}